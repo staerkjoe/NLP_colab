{
  "nbformat": 4,
  "nbformat_minor": 0,
  "metadata": {
    "colab": {
      "provenance": [],
      "include_colab_link": true
    },
    "kernelspec": {
      "name": "python3",
      "language": "python",
      "display_name": "Python 3 (ipykernel)"
    },
    "language_info": {
      "name": "python"
    },
    "accelerator": "GPU"
  },
  "cells": [
    {
      "cell_type": "markdown",
      "metadata": {
        "id": "view-in-github",
        "colab_type": "text"
      },
      "source": [
        "<a href=\"https://colab.research.google.com/github/staerkjoe/NLP_colab/blob/main/E03_rnn_pytorch.ipynb\" target=\"_parent\"><img src=\"https://colab.research.google.com/assets/colab-badge.svg\" alt=\"Open In Colab\"/></a>"
      ]
    },
    {
      "cell_type": "markdown",
      "metadata": {
        "id": "OCwSuMn6YVmk"
      },
      "source": [
        "## Task 3.1: Understanding Basic Recurrent Neural Networks (RNNs)\n",
        "\n",
        "ITU KSAMLNL1KU - Advanced Machine Learning for Natural Language Processing 2025\n",
        "\n",
        "by Stefan Heinrich, Eisuke Okuda, Jonathan Tiedchen,\n",
        "& material by Kevin Murphy and Chris Bishop.\n",
        "\n",
        "This notebook is based on sec 8.5 of http://d2l.ai/chapter_recurrent-neural-networks/rnn-scratch.html with further contributions by Murphy.\n",
        "\n",
        "All info and static material: https://learnit.itu.dk/course/view.php?id=3024752\n",
        "\n",
        "-------------------------------------------------------------------------------\n"
      ]
    },
    {
      "cell_type": "code",
      "metadata": {
        "id": "o6VNlv_FYTbS",
        "ExecuteTime": {
          "end_time": "2023-11-28T13:24:40.016244600Z",
          "start_time": "2023-11-28T13:24:37.750061400Z"
        }
      },
      "source": [
        "# @title #### Import dependencies\n",
        "\n",
        "import numpy as np\n",
        "import matplotlib.pyplot as plt\n",
        "import math\n",
        "from IPython import display\n",
        "\n",
        "import torch\n",
        "from torch import nn\n",
        "from torch.nn import functional as F\n",
        "from torch.utils import data\n",
        "\n",
        "import collections\n",
        "import re\n",
        "import random\n",
        "import os\n",
        "import requests\n",
        "import hashlib\n",
        "import time\n",
        "\n",
        "np.random.seed(seed=1)\n",
        "torch.manual_seed(1)\n",
        "!mkdir figures # for saving plots\n"
      ],
      "execution_count": 1,
      "outputs": []
    },
    {
      "cell_type": "markdown",
      "metadata": {
        "id": "wiYH4kGgak5S"
      },
      "source": [
        "#### Load the data\n",
        "\n",
        "As data, we use the book \"The Time Machine\" by H G Wells,\n",
        "preprocessed using the code in [this colab](https://github.com/probml/pyprobml/blob/master/notebooks/tutorials/text_preproc_torch.ipynb).\n",
        "Don't spend much time on understanding the details of the preprocessing but grasp the overall concept of how the **vocabulary is built** and what the **role of \"num_steps\"** is."
      ]
    },
    {
      "cell_type": "markdown",
      "source": [
        "How and why is the vocabulary dictionary built up?\n",
        "- Clean text → tokenize → count frequencies → assign indices.\n",
        "- Unknown tokens get mapped to unknown tokens.\n",
        "\n",
        "What is the role of 'num_steps'?\n",
        "- num_steps defines the input sequence --> how many characters/words as input to predict the next character/word"
      ],
      "metadata": {
        "id": "MuyPJ1fOuYQi"
      }
    },
    {
      "cell_type": "code",
      "metadata": {
        "id": "yRp-MH0Nv7rN",
        "ExecuteTime": {
          "end_time": "2023-11-28T13:24:40.033080400Z",
          "start_time": "2023-11-28T13:24:40.020225300Z"
        }
      },
      "source": [
        "def download(name, cache_dir=os.path.join('..', 'data')):\n",
        "    \"\"\"Download a file inserted into DATA_HUB, return the local filename.\"\"\"\n",
        "    assert name in DATA_HUB, f\"{name} does not exist in {DATA_HUB}.\"\n",
        "    url, sha1_hash = DATA_HUB[name]\n",
        "    os.makedirs(cache_dir, exist_ok=True)\n",
        "    fname = os.path.join(cache_dir, url.split('/')[-1])\n",
        "    if os.path.exists(fname):\n",
        "        sha1 = hashlib.sha1()\n",
        "        with open(fname, 'rb') as f:\n",
        "            while True:\n",
        "                data = f.read(1048576)\n",
        "                if not data:\n",
        "                    break\n",
        "                sha1.update(data)\n",
        "        if sha1.hexdigest() == sha1_hash:\n",
        "            return fname  # Hit cache\n",
        "    print(f'Downloading {fname} from {url}...')\n",
        "    r = requests.get(url, stream=True, verify=True)\n",
        "    with open(fname, 'wb') as f:\n",
        "        f.write(r.content)\n",
        "    return fname\n",
        "\n",
        "def read_time_machine():\n",
        "    \"\"\"Load the time machine dataset into a list of text lines.\"\"\"\n",
        "    with open(download('time_machine'), 'r') as f:\n",
        "        lines = f.readlines()\n",
        "    return [re.sub('[^A-Za-z]+', ' ', line).strip().lower() for line in lines]\n",
        "\n",
        "def load_corpus_time_machine(max_tokens=-1):\n",
        "    \"\"\"Return token indices and the vocabulary of the time machine dataset.\"\"\"\n",
        "    lines = read_time_machine()\n",
        "    tokens = tokenize(lines, 'char')\n",
        "    vocab = Vocab(tokens)\n",
        "    # Since each text line in the time machine dataset is not necessarily a\n",
        "    # sentence or a paragraph, flatten all the text lines into a single list\n",
        "    corpus = [vocab[token] for line in tokens for token in line]\n",
        "    if max_tokens > 0:\n",
        "        corpus = corpus[:max_tokens]\n",
        "    return corpus, vocab\n",
        "\n",
        "def load_data_time_machine(batch_size, num_steps, use_random_iter=False,\n",
        "                           max_tokens=10000):\n",
        "    \"\"\"Return the iterator and the vocabulary of the time machine dataset.\"\"\"\n",
        "    data_iter = SeqDataLoader(batch_size, num_steps, use_random_iter,\n",
        "                              max_tokens)\n",
        "    return data_iter, data_iter.vocab"
      ],
      "execution_count": 2,
      "outputs": []
    },
    {
      "cell_type": "code",
      "metadata": {
        "id": "-TvZsL4gtHQ2",
        "ExecuteTime": {
          "end_time": "2023-11-28T13:24:40.063036700Z",
          "start_time": "2023-11-28T13:24:40.036065600Z"
        }
      },
      "source": [
        "def tokenize(lines, token='word'):\n",
        "    \"\"\"Split text lines into word or character tokens.\"\"\"\n",
        "    if token == 'word':\n",
        "        return [line.split() for line in lines]\n",
        "    elif token == 'char':\n",
        "        return [list(line) for line in lines]\n",
        "    else:\n",
        "        print('ERROR: unknown token type: ' + token)\n",
        "\n",
        "def count_corpus(tokens):\n",
        "    \"\"\"Count token frequencies.\"\"\"\n",
        "    # Here `tokens` is a 1D list or 2D list\n",
        "    if len(tokens) == 0 or isinstance(tokens[0], list):\n",
        "        # Flatten a list of token lists into a list of tokens\n",
        "        tokens = [token for line in tokens for token in line]\n",
        "    return collections.Counter(tokens)\n",
        "\n",
        "def seq_data_iter_random(corpus, batch_size, num_steps):\n",
        "    \"\"\"Generate a minibatch of subsequences using random sampling.\"\"\"\n",
        "    # Start with a random offset (inclusive of `num_steps - 1`) to partition a\n",
        "    # sequence\n",
        "    corpus = corpus[random.randint(0, num_steps - 1):]\n",
        "    # Subtract 1 since we need to account for labels\n",
        "    num_subseqs = (len(corpus) - 1) // num_steps\n",
        "    # The starting indices for subsequences of length `num_steps`\n",
        "    initial_indices = list(range(0, num_subseqs * num_steps, num_steps))\n",
        "    # In random sampling, the subsequences from two adjacent random\n",
        "    # minibatches during iteration are not necessarily adjacent on the\n",
        "    # original sequence\n",
        "    random.shuffle(initial_indices)\n",
        "\n",
        "    def data(pos):\n",
        "        # Return a sequence of length `num_steps` starting from `pos`\n",
        "        return corpus[pos:pos + num_steps]\n",
        "\n",
        "    num_batches = num_subseqs // batch_size\n",
        "    for i in range(0, batch_size * num_batches, batch_size):\n",
        "        # Here, `initial_indices` contains randomized starting indices for\n",
        "        # subsequences\n",
        "        initial_indices_per_batch = initial_indices[i:i + batch_size]\n",
        "        X = [data(j) for j in initial_indices_per_batch]\n",
        "        Y = [data(j + 1) for j in initial_indices_per_batch]\n",
        "        yield torch.tensor(X), torch.tensor(Y)\n",
        "\n",
        "def seq_data_iter_sequential(corpus, batch_size, num_steps):\n",
        "    \"\"\"Generate a minibatch of subsequences using sequential partitioning.\"\"\"\n",
        "    # Start with a random offset to partition a sequence\n",
        "    offset = random.randint(0, num_steps)\n",
        "    num_tokens = ((len(corpus) - offset - 1) // batch_size) * batch_size\n",
        "    Xs = torch.tensor(corpus[offset:offset + num_tokens])\n",
        "    Ys = torch.tensor(corpus[offset + 1:offset + 1 + num_tokens])\n",
        "    Xs, Ys = Xs.reshape(batch_size, -1), Ys.reshape(batch_size, -1)\n",
        "    num_batches = Xs.shape[1] // num_steps\n",
        "    for i in range(0, num_steps * num_batches, num_steps):\n",
        "        X = Xs[:, i:i + num_steps]\n",
        "        Y = Ys[:, i:i + num_steps]\n",
        "        yield X, Y"
      ],
      "execution_count": 3,
      "outputs": []
    },
    {
      "cell_type": "code",
      "metadata": {
        "id": "tLIKRJomvBV5",
        "ExecuteTime": {
          "end_time": "2023-11-28T13:24:40.066022500Z",
          "start_time": "2023-11-28T13:24:40.048082600Z"
        }
      },
      "source": [
        "class SeqDataLoader:\n",
        "    \"\"\"An iterator to load sequence data.\"\"\"\n",
        "    def __init__(self, batch_size, num_steps, use_random_iter, max_tokens):\n",
        "        if use_random_iter:\n",
        "            self.data_iter_fn = seq_data_iter_random\n",
        "        else:\n",
        "            self.data_iter_fn = seq_data_iter_sequential\n",
        "        self.corpus, self.vocab = load_corpus_time_machine(max_tokens)\n",
        "        self.batch_size, self.num_steps = batch_size, num_steps\n",
        "\n",
        "    def __iter__(self):\n",
        "        return self.data_iter_fn(self.corpus, self.batch_size, self.num_steps)\n",
        "\n",
        "class Vocab:\n",
        "    \"\"\"Vocabulary for text.\"\"\"\n",
        "    def __init__(self, tokens=None, min_freq=0, reserved_tokens=None):\n",
        "        if tokens is None:\n",
        "            tokens = []\n",
        "        if reserved_tokens is None:\n",
        "            reserved_tokens = []\n",
        "        # Sort according to frequencies\n",
        "        counter = count_corpus(tokens)\n",
        "        self.token_freqs = sorted(counter.items(), key=lambda x: x[1],\n",
        "                                  reverse=True)\n",
        "        # The index for the unknown token is 0\n",
        "        self.unk, uniq_tokens = 0, ['<unk>'] + reserved_tokens\n",
        "        uniq_tokens += [\n",
        "            token for token, freq in self.token_freqs\n",
        "            if freq >= min_freq and token not in uniq_tokens]\n",
        "        self.idx_to_token, self.token_to_idx = [], dict()\n",
        "        for token in uniq_tokens:\n",
        "            self.idx_to_token.append(token)\n",
        "            self.token_to_idx[token] = len(self.idx_to_token) - 1\n",
        "\n",
        "    def __len__(self):\n",
        "        return len(self.idx_to_token)\n",
        "\n",
        "    def __getitem__(self, tokens):\n",
        "        if not isinstance(tokens, (list, tuple)):\n",
        "            return self.token_to_idx.get(tokens, self.unk)\n",
        "        return [self.__getitem__(token) for token in tokens]\n",
        "\n",
        "    def to_tokens(self, indices):\n",
        "        if not isinstance(indices, (list, tuple)):\n",
        "            return self.idx_to_token[indices]\n",
        "        return [self.idx_to_token[index] for index in indices]"
      ],
      "execution_count": 4,
      "outputs": []
    },
    {
      "cell_type": "code",
      "metadata": {
        "id": "nG2T4maNYdsG",
        "ExecuteTime": {
          "end_time": "2023-11-28T13:24:40.144191Z",
          "start_time": "2023-11-28T13:24:40.064032900Z"
        }
      },
      "source": [
        "DATA_HUB = dict()\n",
        "DATA_URL = 'http://d2l-data.s3-accelerate.amazonaws.com/'\n",
        "DATA_HUB['time_machine'] = (DATA_URL + 'timemachine.txt',\n",
        "                                '090b5e7e70c295757f55df93cb0a180b9691891a')\n",
        "\n",
        "# load data as function (thus, will be executed later!)\n",
        "batch_size, num_steps = 64, 50\n",
        "train_iter, vocab = load_data_time_machine(batch_size, num_steps)"
      ],
      "execution_count": 31,
      "outputs": []
    },
    {
      "cell_type": "markdown",
      "source": [
        "##### Inspect some of the data"
      ],
      "metadata": {
        "id": "scpZP3kdI2wK"
      }
    },
    {
      "cell_type": "code",
      "source": [
        "# Print lines 0, 8 and 11 of the original text, after it was stripped from standard non-characters:\n",
        "X = read_time_machine()\n",
        "print(X[0])\n",
        "print(X[8])\n",
        "print(X[11])\n",
        "# Note: this stripping, as a pre-processing step, can already remove important cues for meaning."
      ],
      "metadata": {
        "id": "scsJFyNyHw0C",
        "ExecuteTime": {
          "end_time": "2023-11-28T13:24:40.204432400Z",
          "start_time": "2023-11-28T13:24:40.142791400Z"
        },
        "outputId": "4c060663-3d5e-4dc3-9bd8-121ec5e8eed9",
        "colab": {
          "base_uri": "https://localhost:8080/"
        }
      },
      "execution_count": 6,
      "outputs": [
        {
          "output_type": "stream",
          "name": "stdout",
          "text": [
            "the time machine by h g wells\n",
            "the time traveller for so it will be convenient to speak of him\n",
            "fire burned brightly and the soft radiance of the incandescent\n"
          ]
        }
      ]
    },
    {
      "cell_type": "markdown",
      "metadata": {
        "id": "GGQryRwZauLq"
      },
      "source": [
        "### Build the model - Variant 1: RNN from scratch\n",
        "\n",
        "We fit an unconditional RNN, for language modeling (ie. not vec2seq or seq2seq. Following the D2L notation, the model has the form\n",
        "$$\\begin{align}\n",
        "H_t &= \\phi(X_t W_{xh} + H_{t-1}  W_{hh} + b_h) \\\\\n",
        "O_t &= H_t W_{hq} + b_q\n",
        "\\end{align}\n",
        "$$\n",
        "where $X_t$ is the $(n,d)$ matrix of (one-hot) inputs\n",
        "(for batch size $n$ and vocabulary size $d$),\n",
        "$H_t$ is the $(n,h)$ matrix of hidden states\n",
        "(for $h$ hidden states),\n",
        "and $O_t$ is the $(n,q)$ matrix of output logits\n",
        "(for $q$ output labels, often $q=d$).\n",
        "\n"
      ]
    },
    {
      "cell_type": "markdown",
      "source": [
        "Fixing num_steps\n",
        "- Ensures consistent input length for training.\n",
        "- Controls how much context the model sees.\n",
        "- Longer num_steps = more memory, better long-term dependencies.\n",
        "\n",
        "Fixing batch_size\n",
        "- Enables efficient parallel processing.\n",
        "- Affects training speed and stability.\n",
        "- Larger batches = smoother gradients, but more memory.\n",
        "\n",
        "Fixing vocab_size (number of unique tokens)\n",
        "- Determines input/output dimensionality.\n",
        "- Needed to initialize weight matrices like W_xh and W_hq.\n",
        "\n",
        "Fixing these ensures that all tensors and weight shapes align properly. It also simplifies debugging and reproducibility.\n",
        "\n",
        "small vocab = lightweight but shallow, large vocab = powerful but heavy."
      ],
      "metadata": {
        "id": "0LvZZ1PwtJ54"
      }
    },
    {
      "cell_type": "code",
      "metadata": {
        "id": "3TC24W0EanF7",
        "ExecuteTime": {
          "end_time": "2023-11-28T13:24:40.216392300Z",
          "start_time": "2023-11-28T13:24:40.174464Z"
        }
      },
      "source": [
        "# Create the initial parameters\n",
        "\n",
        "def get_params(vocab_size, num_hiddens, device):\n",
        "    num_inputs = num_outputs = vocab_size\n",
        "\n",
        "    def normal(shape):\n",
        "        return torch.randn(size=shape, device=device) * 0.01\n",
        "\n",
        "    # Hidden layer parameters\n",
        "    W_xh = normal((num_inputs, num_hiddens))\n",
        "    W_hh = normal((num_hiddens, num_hiddens))\n",
        "    b_h = torch.zeros(num_hiddens, device=device)\n",
        "    # Output layer parameters\n",
        "    W_hq = normal((num_hiddens, num_outputs))\n",
        "    b_q = torch.zeros(num_outputs, device=device)\n",
        "    # Attach gradients\n",
        "    params = [W_xh, W_hh, b_h, W_hq, b_q]\n",
        "    for param in params:\n",
        "        param.requires_grad_(True)\n",
        "    return params"
      ],
      "execution_count": 7,
      "outputs": []
    },
    {
      "cell_type": "code",
      "metadata": {
        "id": "dEf08b5ccaPx",
        "ExecuteTime": {
          "end_time": "2023-11-28T13:24:40.217393Z",
          "start_time": "2023-11-28T13:24:40.190410500Z"
        }
      },
      "source": [
        "# Create the initial state\n",
        "# We assume this is a tuple of one element (later we will use longer tuples)\n",
        "def init_rnn_state(batch_size, num_hiddens, device):\n",
        "    return (torch.zeros((batch_size, num_hiddens), device=device),)\n"
      ],
      "execution_count": 8,
      "outputs": []
    },
    {
      "cell_type": "markdown",
      "source": [
        "![image.png](data:image/png;base64,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)"
      ],
      "metadata": {
        "id": "v-UcDevx3_TY"
      }
    },
    {
      "cell_type": "code",
      "metadata": {
        "id": "NkvId2WmcqFz",
        "ExecuteTime": {
          "end_time": "2023-11-28T13:24:40.231565400Z",
          "start_time": "2023-11-28T13:24:40.207421700Z"
        }
      },
      "source": [
        "# Forward function.\n",
        "# Input sequence is (T,B,V), where T is length of the sequence, B is batch size, V is vocab size.\n",
        "# We iterate over each time step, and process the batch (for that timestep in parallel).\n",
        "# Output sequence is (T*B, V), since concatante all the time steps.\n",
        "# We also return the final state, so we can process the next subsequence.\n",
        "\n",
        "def rnn(inputs, state, params):\n",
        "    # Here `inputs` shape: (`num_steps`, `batch_size`, `vocab_size`)\n",
        "    W_xh, W_hh, b_h, W_hq, b_q = params\n",
        "    H, = state\n",
        "    outputs = []\n",
        "    # Shape of `X`: (`batch_size`, `vocab_size`)\n",
        "    for X in inputs:\n",
        "        H = torch.tanh(torch.mm(X, W_xh) + torch.mm(H, W_hh) + b_h)\n",
        "        # current input x_t + previous hidden state (both * weights) + bias = new hidden state\n",
        "        Y = torch.mm(H, W_hq) + b_q\n",
        "        # new hidden state then used to compute new output\n",
        "        outputs.append(Y)\n",
        "        # each time step added\n",
        "    return torch.cat(outputs, dim=0), (H,)"
      ],
      "execution_count": 9,
      "outputs": []
    },
    {
      "cell_type": "code",
      "metadata": {
        "id": "Qw3vhoRKdVxt",
        "ExecuteTime": {
          "end_time": "2023-11-28T13:24:40.252564400Z",
          "start_time": "2023-11-28T13:24:40.224584900Z"
        }
      },
      "source": [
        "# Make the model class\n",
        "# Input X to call is (B,T) matrix of integers (from vocab encoding).\n",
        "# We transpse this to (T,B) then one-hot encode to (T,B,V), where V is vocab.\n",
        "# The result is passed to the forward function.\n",
        "# (We define the forward function as an argument, so we can change it later.)\n",
        "\n",
        "class RNNModelScratch:\n",
        "    \"\"\"A RNN Model implemented from scratch.\"\"\"\n",
        "    def __init__(self, vocab_size, num_hiddens, device, get_params,\n",
        "                 init_state, forward_fn):\n",
        "        self.vocab_size, self.num_hiddens = vocab_size, num_hiddens\n",
        "        self.params = get_params(vocab_size, num_hiddens, device)\n",
        "        self.init_state, self.forward_fn = init_state, forward_fn\n",
        "\n",
        "    def __call__(self, X, state):\n",
        "        X = F.one_hot(X.T, self.vocab_size).type(torch.float32)\n",
        "        return self.forward_fn(X, state, self.params)\n",
        "\n",
        "    def begin_state(self, batch_size, device):\n",
        "        return self.init_state(batch_size, self.num_hiddens, device)"
      ],
      "execution_count": 10,
      "outputs": []
    },
    {
      "cell_type": "code",
      "metadata": {
        "id": "bY_gAWKLw0vR",
        "ExecuteTime": {
          "end_time": "2023-11-28T13:24:40.257549Z",
          "start_time": "2023-11-28T13:24:40.237613800Z"
        }
      },
      "source": [
        "# We search for the GPUs and otherwise use the CPU for the computation.\n",
        "# you can also set a fixed device here.\n",
        "def try_gpu(i=0):\n",
        "    \"\"\"Return gpu(i) if exists, otherwise return cpu().\"\"\"\n",
        "    if torch.cuda.device_count() >= i + 1:\n",
        "      return torch.device(f'cuda:{i}')\n",
        "    return torch.device('cpu')"
      ],
      "execution_count": 11,
      "outputs": []
    },
    {
      "cell_type": "code",
      "metadata": {
        "id": "zJ2brHhpdbh5",
        "ExecuteTime": {
          "end_time": "2023-11-28T13:24:40.306476600Z",
          "start_time": "2023-11-28T13:24:40.256551400Z"
        }
      },
      "source": [
        "num_hiddens = 512\n",
        "net = RNNModelScratch(len(vocab), num_hiddens, try_gpu(), get_params,\n",
        "                      init_rnn_state, rnn)"
      ],
      "execution_count": 12,
      "outputs": []
    },
    {
      "cell_type": "code",
      "metadata": {
        "id": "ibw5knTqdxrv",
        "ExecuteTime": {
          "end_time": "2023-11-28T13:24:40.379982100Z",
          "start_time": "2023-11-28T13:24:40.301969600Z"
        },
        "outputId": "3557079d-c900-465f-dd48-45b82a169add",
        "colab": {
          "base_uri": "https://localhost:8080/"
        }
      },
      "source": [
        "X = torch.arange(10).reshape((2, 5)) # batch 2, sequence length is 5\n",
        "state = net.begin_state(X.shape[0], try_gpu())\n",
        "print(len(state)) # length 1\n",
        "print(state[0].shape) # (2,512)\n",
        "\n",
        "Y, new_state = net(X.to(try_gpu()), state)\n",
        "print(len(vocab)) # 28\n",
        "print(Y.shape) # (2x5, 28)"
      ],
      "execution_count": 13,
      "outputs": [
        {
          "output_type": "stream",
          "name": "stdout",
          "text": [
            "1\n",
            "torch.Size([2, 512])\n",
            "28\n",
            "torch.Size([10, 28])\n"
          ]
        }
      ]
    },
    {
      "cell_type": "markdown",
      "metadata": {
        "id": "tLtX5YfSfiBn"
      },
      "source": [
        "#### The prediction (generation) task\n",
        "\n",
        "We pass in an initial prefix string, that is not generated. This is used to \"warm-up\" the hidden state. Specifically, we update the hidden state given the observed prefix, but don't generate anything. After that, for each of the T steps, we compute the (1,V) output tensor, pick the argmax index, and append it to the output. Finally, we convert the to indices to readable token sequence of size (1,T). (Note that this is a greedy, deterministic procedure.)\n",
        "\n",
        "(D2L calls this `predict_ch8` since it occurs in their chapter 8.)"
      ]
    },
    {
      "cell_type": "code",
      "metadata": {
        "id": "MvGhZUIGd3F3",
        "ExecuteTime": {
          "end_time": "2023-11-28T13:24:40.423668900Z",
          "start_time": "2023-11-28T13:24:40.380977300Z"
        }
      },
      "source": [
        "def predict(prefix, num_preds, net, vocab, device):\n",
        "    \"\"\"Generate new characters following the `prefix`.\"\"\"\n",
        "    state = net.begin_state(batch_size=1, device=device)\n",
        "    outputs = [vocab[prefix[0]]]\n",
        "    get_input = lambda: torch.tensor([outputs[-1]], device=device).reshape(\n",
        "        (1, 1))\n",
        "    for y in prefix[1:]:  # Warm-up period\n",
        "        _, state = net(get_input(), state)\n",
        "        outputs.append(vocab[y])\n",
        "    for _ in range(num_preds):  # Predict `num_preds` steps\n",
        "        y, state = net(get_input(), state)\n",
        "        outputs.append(int(y.argmax(dim=1).reshape(1)))\n",
        "    return ''.join([vocab.idx_to_token[i] for i in outputs])"
      ],
      "execution_count": 14,
      "outputs": []
    },
    {
      "cell_type": "code",
      "metadata": {
        "id": "678bHt1ogoh8",
        "ExecuteTime": {
          "end_time": "2023-11-28T13:24:40.435629300Z",
          "start_time": "2023-11-28T13:24:40.393769Z"
        },
        "outputId": "32843b1d-9790-49e8-e9af-3b2d66794ed5",
        "colab": {
          "base_uri": "https://localhost:8080/",
          "height": 36
        }
      },
      "source": [
        "# sample 50 characters after the prefix.\n",
        "# since the model is untrained, the results will be garbage.\n",
        "predict('time traveller ', 50, net, vocab, try_gpu())\n"
      ],
      "execution_count": 15,
      "outputs": [
        {
          "output_type": "execute_result",
          "data": {
            "text/plain": [
              "'time traveller hmykxtqtqtqtqtqtqtqtqtqtqtqtqtqtqtqtqtqtqtqtqtqtqt'"
            ],
            "application/vnd.google.colaboratory.intrinsic+json": {
              "type": "string"
            }
          },
          "metadata": {},
          "execution_count": 15
        }
      ]
    },
    {
      "cell_type": "markdown",
      "metadata": {
        "id": "2WTrDGSIhQxN"
      },
      "source": [
        "#### Training\n"
      ]
    },
    {
      "cell_type": "markdown",
      "metadata": {
        "id": "rPuo8za_hUWL"
      },
      "source": [
        "To ensure the gradient doesn't blow up when doing backpropagation through many layers, we use gradient clipping, which corresponds to the update\n",
        "$$\n",
        "g := \\min(1, \\theta /||g||) g\n",
        "$$\n",
        "where $\\theta$ is the scaling parameter, and $g$ is the gradient vector.\n",
        "\n"
      ]
    },
    {
      "cell_type": "code",
      "metadata": {
        "id": "LDuvumDhgpvh",
        "ExecuteTime": {
          "end_time": "2023-11-28T13:24:40.470445Z",
          "start_time": "2023-11-28T13:24:40.425662500Z"
        }
      },
      "source": [
        "def grad_clipping(net, theta):\n",
        "    \"\"\"Clip the gradient.\"\"\"\n",
        "    if isinstance(net, nn.Module):\n",
        "        params = [p for p in net.parameters() if p.requires_grad]\n",
        "    else:\n",
        "        params = net.params\n",
        "    norm = torch.sqrt(sum(torch.sum((p.grad**2)) for p in params))\n",
        "    if norm > theta:\n",
        "        for param in params:\n",
        "            param.grad[:] *= theta / norm"
      ],
      "execution_count": 16,
      "outputs": []
    },
    {
      "cell_type": "markdown",
      "metadata": {
        "id": "D0Exq_Lihxld"
      },
      "source": [
        "The training step is fairly standard, except for the use of gradient clipping, and the issue of the hidden state.\n",
        "If the data iterator uses random ordering of the sequences, we need to initialize the hidden state for each minibatch. However, if the data iterator uses sequential ordering, we only initialize the hidden state at the very beginning of the process. In the latter case, the hidden state will depend on the value at the previous minibatch. We detach the state vector to prevent gradients flowing across minibatch boundaries.\n",
        "\n",
        "The state vector may be a tensor or a tuple, depending on what kind of RNN we are using. In addition, the parameter updater can be a built-in optimizer, or the simpler D2L sgd optimizer.\n"
      ]
    },
    {
      "cell_type": "markdown",
      "source": [
        "##### Utility functions\n",
        "*Note*: Ignore the methods in this section. The code is not necessary to unterstand for the tasks. They are just used for some nicer visualisations."
      ],
      "metadata": {
        "id": "gPDPDzZLlMpk"
      }
    },
    {
      "cell_type": "code",
      "metadata": {
        "id": "tA_QeZH5rp1o",
        "ExecuteTime": {
          "end_time": "2023-11-28T13:24:40.518398800Z",
          "start_time": "2023-11-28T13:24:40.450192100Z"
        }
      },
      "source": [
        "class Animator:\n",
        "    \"\"\"For plotting data in animation.\"\"\"\n",
        "    def __init__(self, xlabel=None, ylabel=None, legend=None, xlim=None,\n",
        "                 ylim=None, xscale='linear', yscale='linear',\n",
        "                 fmts=('-', 'm--', 'g-.', 'r:'), nrows=1, ncols=1,\n",
        "                 figsize=(3.5, 2.5)):\n",
        "        # Incrementally plot multiple lines\n",
        "        if legend is None:\n",
        "            legend = []\n",
        "        #deprecated: display.set_matplotlib_formats('svg')\n",
        "        self.fig, self.axes = plt.subplots(nrows, ncols, figsize=figsize)\n",
        "        if nrows * ncols == 1:\n",
        "            self.axes = [self.axes,]\n",
        "        # Use a lambda function to capture arguments\n",
        "        self.config_axes = lambda: set_axes(self.axes[\n",
        "            0], xlabel, ylabel, xlim, ylim, xscale, yscale, legend)\n",
        "        self.X, self.Y, self.fmts = None, None, fmts\n",
        "\n",
        "    def add(self, x, y):\n",
        "        # Add multiple data points into the figure\n",
        "        if not hasattr(y, \"__len__\"):\n",
        "            y = [y]\n",
        "        n = len(y)\n",
        "        if not hasattr(x, \"__len__\"):\n",
        "            x = [x] * n\n",
        "        if not self.X:\n",
        "            self.X = [[] for _ in range(n)]\n",
        "        if not self.Y:\n",
        "            self.Y = [[] for _ in range(n)]\n",
        "        for i, (a, b) in enumerate(zip(x, y)):\n",
        "            if a is not None and b is not None:\n",
        "                self.X[i].append(a)\n",
        "                self.Y[i].append(b)\n",
        "        self.axes[0].cla()\n",
        "        for x, y, fmt in zip(self.X, self.Y, self.fmts):\n",
        "            self.axes[0].plot(x, y, fmt)\n",
        "        self.config_axes()\n",
        "        display.display(self.fig)\n",
        "        display.clear_output(wait=True)\n",
        "\n",
        "class Timer:\n",
        "    \"\"\"Record multiple running times.\"\"\"\n",
        "    def __init__(self):\n",
        "        self.times = []\n",
        "        self.start()\n",
        "\n",
        "    def start(self):\n",
        "        \"\"\"Start the timer.\"\"\"\n",
        "        self.tik = time.time()\n",
        "\n",
        "    def stop(self):\n",
        "        \"\"\"Stop the timer and record the time in a list.\"\"\"\n",
        "        self.times.append(time.time() - self.tik)\n",
        "        return self.times[-1]\n",
        "\n",
        "    def avg(self):\n",
        "        \"\"\"Return the average time.\"\"\"\n",
        "        return sum(self.times) / len(self.times)\n",
        "\n",
        "    def sum(self):\n",
        "        \"\"\"Return the sum of time.\"\"\"\n",
        "        return sum(self.times)\n",
        "\n",
        "    def cumsum(self):\n",
        "        \"\"\"Return the accumulated time.\"\"\"\n",
        "        return np.array(self.times).cumsum().tolist()\n",
        "\n",
        "class Accumulator:\n",
        "    \"\"\"For accumulating sums over `n` variables.\"\"\"\n",
        "    def __init__(self, n):\n",
        "        self.data = [0.0] * n\n",
        "\n",
        "    def add(self, *args):\n",
        "        self.data = [a + float(b) for a, b in zip(self.data, args)]\n",
        "\n",
        "    def reset(self):\n",
        "        self.data = [0.0] * len(self.data)\n",
        "\n",
        "    def __getitem__(self, idx):\n",
        "        return self.data[idx]\n",
        "\n",
        "def set_axes(axes, xlabel, ylabel, xlim, ylim, xscale, yscale, legend):\n",
        "    \"\"\"Set the axes for matplotlib.\"\"\"\n",
        "    axes.set_xlabel(xlabel)\n",
        "    axes.set_ylabel(ylabel)\n",
        "    axes.set_xscale(xscale)\n",
        "    axes.set_yscale(yscale)\n",
        "    axes.set_xlim(xlim)\n",
        "    axes.set_ylim(ylim)\n",
        "    if legend:\n",
        "        axes.legend(legend)\n",
        "    axes.grid()\n",
        "\n",
        "def sgd(params, lr, batch_size):\n",
        "    \"\"\"Minibatch stochastic gradient descent.\"\"\"\n",
        "    with torch.no_grad():\n",
        "        for param in params:\n",
        "            param -= lr * param.grad / batch_size\n",
        "            param.grad.zero_()"
      ],
      "execution_count": 17,
      "outputs": []
    },
    {
      "cell_type": "markdown",
      "source": [
        "##### Training loop (over epoch)"
      ],
      "metadata": {
        "id": "0PtMgbDzlZll"
      }
    },
    {
      "cell_type": "markdown",
      "source": [],
      "metadata": {
        "id": "LhBV0Pa23IFG"
      }
    },
    {
      "cell_type": "markdown",
      "source": [
        "- RNNs maintain a memory of previous inputs via the hidden state.\n",
        "- When training with random sampling, each batch is unrelated to the previous one—so we must reset the hidden state.\n",
        "- When training with sequential sampling (relationship between batches), batches are adjacent in the corpus—so we can carry over the hidden state.\n",
        "\n",
        "If you DO initialize at each batch (e.g. POS tagging/machine translation):\n",
        "- The model starts fresh every time.\n",
        "- Good for random sampling.\n",
        "- Prevents contamination from unrelated sequences.\n",
        "\n",
        "If you DON’T initialize (i.e., carry over state):\n",
        "- The model retains memory across batches.\n",
        "- Good for sequential sampling.\n",
        "- Helps learn long-term dependencies."
      ],
      "metadata": {
        "id": "n3I2WfIJ1-AD"
      }
    },
    {
      "cell_type": "code",
      "metadata": {
        "id": "Eq_QMLUKhw3k",
        "ExecuteTime": {
          "end_time": "2023-11-28T13:24:40.528365600Z",
          "start_time": "2023-11-28T13:24:40.457490400Z"
        }
      },
      "source": [
        "def train_epoch(net, train_iter, loss, updater, device, use_random_iter):\n",
        "    state, timer = None, Timer()\n",
        "    metric = Accumulator(2)  # Sum of training loss, no. of tokens\n",
        "    for X, Y in train_iter:\n",
        "        if state is None or use_random_iter:\n",
        "            # Initialize `state` when either it is the first iteration or\n",
        "            # using random sampling\n",
        "            state = net.begin_state(batch_size=X.shape[0], device=device)\n",
        "        else:\n",
        "            if isinstance(net, nn.Module) and not isinstance(state, tuple):\n",
        "                # `state` is a tensor for `nn.GRU`\n",
        "                state.detach_()\n",
        "            else:\n",
        "                # `state` is a tuple of tensors for `nn.LSTM` and\n",
        "                # for our custom scratch implementation\n",
        "                for s in state:\n",
        "                    s.detach_()\n",
        "        y = Y.T.reshape(-1) #(B,T) -> (T,B)\n",
        "        X, y = X.to(device), y.to(device)\n",
        "        y_hat, state = net(X, state)\n",
        "        l = loss(y_hat, y.long()).mean()\n",
        "        if isinstance(updater, torch.optim.Optimizer):\n",
        "            updater.zero_grad()\n",
        "            l.backward()\n",
        "            grad_clipping(net, 1)\n",
        "            updater.step()\n",
        "        else:\n",
        "            l.backward()\n",
        "            grad_clipping(net, 1)\n",
        "            # batch_size=1 since the `mean` function has been invoked\n",
        "            updater(batch_size=1)\n",
        "        metric.add(l * y.numel(), y.numel())\n",
        "\n",
        "    return math.exp(metric[0] / metric[1]), metric[1] / timer.stop()"
      ],
      "execution_count": 19,
      "outputs": []
    },
    {
      "cell_type": "markdown",
      "metadata": {
        "id": "T64jNH0Ciq4o"
      },
      "source": [
        "The main training function is fairly standard.\n",
        "The loss function is per-symbol cross-entropy, $-\\log q(x_t)$, where $q$ is the model prediction from the RNN. Since we compute the average loss across time steps within a batch, we are computing $-\\frac{1}{T} \\sum_{t=1}^T \\log p(x_t|x_{1:t-1})$. The exponential of this is the perplexity (ppl). We plot this metric during training, since it is independent of document length. In addition, we print the MAP sequence prediction following the suffix 'time traveller', to get a sense of what the model is doing."
      ]
    },
    {
      "cell_type": "code",
      "source": [
        "import wandb\n",
        "num_epochs, lr = 500, 1\n",
        "config={\n",
        "    \"epochs\": num_epochs,\n",
        "    \"batch_size\": batch_size,\n",
        "    \"learning_rate\": lr,\n",
        "    \"steps\": num_steps,\n",
        "    \"hiddens_units\": num_hiddens\n",
        "}\n",
        "wandb.init(project=\"RNN_LOG\", name=\"RNN4\", config=config)\n"
      ],
      "metadata": {
        "colab": {
          "base_uri": "https://localhost:8080/",
          "height": 230
        },
        "id": "MmtUdZY0QnJq",
        "outputId": "057c4a7a-d620-465d-9cc6-458073b47e3c"
      },
      "execution_count": 37,
      "outputs": [
        {
          "output_type": "display_data",
          "data": {
            "text/plain": [
              "<IPython.core.display.HTML object>"
            ],
            "text/html": [
              "Finishing previous runs because reinit is set to 'default'."
            ]
          },
          "metadata": {}
        },
        {
          "output_type": "display_data",
          "data": {
            "text/plain": [
              "<IPython.core.display.HTML object>"
            ],
            "text/html": []
          },
          "metadata": {}
        },
        {
          "output_type": "display_data",
          "data": {
            "text/plain": [
              "<IPython.core.display.HTML object>"
            ],
            "text/html": [
              " View run <strong style=\"color:#cdcd00\">RNN3</strong> at: <a href='https://wandb.ai/jojs-it-universitetet-i-k-benhavn/RNN_LOG/runs/jpegn0u8' target=\"_blank\">https://wandb.ai/jojs-it-universitetet-i-k-benhavn/RNN_LOG/runs/jpegn0u8</a><br> View project at: <a href='https://wandb.ai/jojs-it-universitetet-i-k-benhavn/RNN_LOG' target=\"_blank\">https://wandb.ai/jojs-it-universitetet-i-k-benhavn/RNN_LOG</a><br>Synced 5 W&B file(s), 0 media file(s), 0 artifact file(s) and 0 other file(s)"
            ]
          },
          "metadata": {}
        },
        {
          "output_type": "display_data",
          "data": {
            "text/plain": [
              "<IPython.core.display.HTML object>"
            ],
            "text/html": [
              "Find logs at: <code>./wandb/run-20250921_131630-jpegn0u8/logs</code>"
            ]
          },
          "metadata": {}
        },
        {
          "output_type": "display_data",
          "data": {
            "text/plain": [
              "<IPython.core.display.HTML object>"
            ],
            "text/html": [
              "creating run (0.0s)"
            ]
          },
          "metadata": {}
        },
        {
          "output_type": "display_data",
          "data": {
            "text/plain": [
              "<IPython.core.display.HTML object>"
            ],
            "text/html": [
              "Tracking run with wandb version 0.21.3"
            ]
          },
          "metadata": {}
        },
        {
          "output_type": "display_data",
          "data": {
            "text/plain": [
              "<IPython.core.display.HTML object>"
            ],
            "text/html": [
              "Run data is saved locally in <code>/content/wandb/run-20250921_131645-v4saxpc4</code>"
            ]
          },
          "metadata": {}
        },
        {
          "output_type": "display_data",
          "data": {
            "text/plain": [
              "<IPython.core.display.HTML object>"
            ],
            "text/html": [
              "Syncing run <strong><a href='https://wandb.ai/jojs-it-universitetet-i-k-benhavn/RNN_LOG/runs/v4saxpc4' target=\"_blank\">RNN4</a></strong> to <a href='https://wandb.ai/jojs-it-universitetet-i-k-benhavn/RNN_LOG' target=\"_blank\">Weights & Biases</a> (<a href='https://wandb.me/developer-guide' target=\"_blank\">docs</a>)<br>"
            ]
          },
          "metadata": {}
        },
        {
          "output_type": "display_data",
          "data": {
            "text/plain": [
              "<IPython.core.display.HTML object>"
            ],
            "text/html": [
              " View project at <a href='https://wandb.ai/jojs-it-universitetet-i-k-benhavn/RNN_LOG' target=\"_blank\">https://wandb.ai/jojs-it-universitetet-i-k-benhavn/RNN_LOG</a>"
            ]
          },
          "metadata": {}
        },
        {
          "output_type": "display_data",
          "data": {
            "text/plain": [
              "<IPython.core.display.HTML object>"
            ],
            "text/html": [
              " View run at <a href='https://wandb.ai/jojs-it-universitetet-i-k-benhavn/RNN_LOG/runs/v4saxpc4' target=\"_blank\">https://wandb.ai/jojs-it-universitetet-i-k-benhavn/RNN_LOG/runs/v4saxpc4</a>"
            ]
          },
          "metadata": {}
        },
        {
          "output_type": "execute_result",
          "data": {
            "text/html": [
              "<button onClick=\"this.nextSibling.style.display='block';this.style.display='none';\">Display W&B run</button><iframe src='https://wandb.ai/jojs-it-universitetet-i-k-benhavn/RNN_LOG/runs/v4saxpc4?jupyter=true' style='border:none;width:100%;height:420px;display:none;'></iframe>"
            ],
            "text/plain": [
              "<wandb.sdk.wandb_run.Run at 0x7e374aa5ef00>"
            ]
          },
          "metadata": {},
          "execution_count": 37
        }
      ]
    },
    {
      "cell_type": "code",
      "metadata": {
        "id": "0tPGxQDWiqfl",
        "ExecuteTime": {
          "end_time": "2023-11-28T13:24:40.529362Z",
          "start_time": "2023-11-28T13:24:40.472440Z"
        }
      },
      "source": [
        "def train(net, train_iter, vocab, lr, num_epochs, device,\n",
        "              use_random_iter=False):\n",
        "    loss = nn.CrossEntropyLoss()\n",
        "    animator = Animator(xlabel='epoch', ylabel='perplexity',\n",
        "                            legend=['train'], xlim=[10, num_epochs])\n",
        "    # Initialize\n",
        "    if isinstance(net, nn.Module):\n",
        "        updater = torch.optim.SGD(net.parameters(), lr)\n",
        "    else:\n",
        "        updater = lambda batch_size: sgd(net.params, lr, batch_size)\n",
        "    num_preds = 50\n",
        "    predict_ = lambda prefix: predict(prefix, num_preds, net, vocab, device)\n",
        "    # Train and predict\n",
        "    for epoch in range(num_epochs):\n",
        "        ppl, speed = train_epoch(net, train_iter, loss, updater, device,\n",
        "                                     use_random_iter)\n",
        "        if (epoch + 1) % 10 == 0:\n",
        "            # sample again after the prefix (live during training).\n",
        "            # the result should be better now.\n",
        "            print(predict_('time traveller '))\n",
        "            animator.add(epoch + 1, [ppl])\n",
        "        wandb.log({\"perplexity\": ppl, \"speed\": speed, \"epoch\": epoch})\n",
        "    print(f'perplexity {ppl:.1f}, {speed:.1f} tokens/sec on {str(device)}')\n",
        "    wandb.log({\"num_hiddens\": num_hiddens, \"step_size\": num_steps})\n",
        "\n",
        "    # sample again after the prefix (live during training).\n",
        "    # the result should be better now.\n",
        "    print(predict_('time traveller '))\n"
      ],
      "execution_count": 38,
      "outputs": []
    },
    {
      "cell_type": "code",
      "metadata": {
        "id": "OfD7J9-YjSCi",
        "outputId": "1f717ced-fc55-4071-c516-3d447eb70124",
        "colab": {
          "base_uri": "https://localhost:8080/",
          "height": 309
        }
      },
      "source": [
        "\n",
        "device = try_gpu()\n",
        "torch.manual_seed(42)\n",
        "num_hiddens = 512\n",
        "net = RNNModelScratch(len(vocab), num_hiddens, device, get_params,\n",
        "                      init_rnn_state, rnn)\n",
        "\n",
        "train(net, train_iter, vocab, lr, num_epochs, try_gpu())"
      ],
      "execution_count": 39,
      "outputs": [
        {
          "output_type": "stream",
          "name": "stdout",
          "text": [
            "perplexity 1.8, 166599.7 tokens/sec on cuda:0\n",
            "time traveller wat about in time bot hal of space astical has on \n"
          ]
        },
        {
          "output_type": "display_data",
          "data": {
            "text/plain": [
              "<Figure size 350x250 with 1 Axes>"
            ],
            "image/png": "[encoded data removed]"
          },
          "metadata": {}
        }
      ]
    },
    {
      "cell_type": "code",
      "source": [
        "# Finish the run\n",
        "wandb.finish()"
      ],
      "metadata": {
        "id": "K61LdyyKbVLE",
        "outputId": "b2bebd31-a3c3-47ac-9d95-698232bf1c68",
        "colab": {
          "base_uri": "https://localhost:8080/",
          "height": 479
        }
      },
      "execution_count": 40,
      "outputs": [
        {
          "output_type": "display_data",
          "data": {
            "text/plain": [
              "<IPython.core.display.HTML object>"
            ],
            "text/html": []
          },
          "metadata": {}
        },
        {
          "output_type": "display_data",
          "data": {
            "text/plain": [
              "<IPython.core.display.HTML object>"
            ],
            "text/html": [
              "<br>    <style><br>        .wandb-row {<br>            display: flex;<br>            flex-direction: row;<br>            flex-wrap: wrap;<br>            justify-content: flex-start;<br>            width: 100%;<br>        }<br>        .wandb-col {<br>            display: flex;<br>            flex-direction: column;<br>            flex-basis: 100%;<br>            flex: 1;<br>            padding: 10px;<br>        }<br>    </style><br><div class=\"wandb-row\"><div class=\"wandb-col\"><h3>Run history:</h3><br/><table class=\"wandb\"><tr><td>epoch</td><td>▁▁▁▂▂▂▂▂▂▂▂▂▃▃▄▄▄▄▄▄▅▅▅▅▅▅▅▆▆▆▇▇▇▇▇█████</td></tr><tr><td>num_hiddens</td><td>▁</td></tr><tr><td>perplexity</td><td>█▇▅▅▄▄▄▄▄▄▄▄▄▄▃▃▃▃▃▃▃▃▃▃▃▂▂▂▂▂▂▂▂▂▂▁▁▁▁▁</td></tr><tr><td>speed</td><td>██▇▄████▇███▃█▄▁▆█▅██▇██▇▇▇▄▄▃▃█▇███▇█▅▇</td></tr><tr><td>step_size</td><td>▁</td></tr></table><br/></div><div class=\"wandb-col\"><h3>Run summary:</h3><br/><table class=\"wandb\"><tr><td>epoch</td><td>499</td></tr><tr><td>num_hiddens</td><td>512</td></tr><tr><td>perplexity</td><td>1.7772</td></tr><tr><td>speed</td><td>166599.71451</td></tr><tr><td>step_size</td><td>50</td></tr></table><br/></div></div>"
            ]
          },
          "metadata": {}
        },
        {
          "output_type": "display_data",
          "data": {
            "text/plain": [
              "<IPython.core.display.HTML object>"
            ],
            "text/html": [
              " View run <strong style=\"color:#cdcd00\">RNN4</strong> at: <a href='https://wandb.ai/jojs-it-universitetet-i-k-benhavn/RNN_LOG/runs/v4saxpc4' target=\"_blank\">https://wandb.ai/jojs-it-universitetet-i-k-benhavn/RNN_LOG/runs/v4saxpc4</a><br> View project at: <a href='https://wandb.ai/jojs-it-universitetet-i-k-benhavn/RNN_LOG' target=\"_blank\">https://wandb.ai/jojs-it-universitetet-i-k-benhavn/RNN_LOG</a><br>Synced 5 W&B file(s), 0 media file(s), 0 artifact file(s) and 0 other file(s)"
            ]
          },
          "metadata": {}
        },
        {
          "output_type": "display_data",
          "data": {
            "text/plain": [
              "<IPython.core.display.HTML object>"
            ],
            "text/html": [
              "Find logs at: <code>./wandb/run-20250921_131645-v4saxpc4/logs</code>"
            ]
          },
          "metadata": {}
        }
      ]
    },
    {
      "cell_type": "markdown",
      "source": [
        "#### Analysis\n",
        "Inspect some more results:"
      ],
      "metadata": {
        "id": "gYyfwxNw_dRb"
      }
    },
    {
      "cell_type": "code",
      "metadata": {
        "id": "CJ3nTS2flVtH",
        "ExecuteTime": {
          "end_time": "2023-11-28T13:26:03.642432900Z",
          "start_time": "2023-11-28T13:26:03.437111800Z"
        },
        "outputId": "b56d8d28-4c1a-4973-f919-d87255d1013e",
        "colab": {
          "base_uri": "https://localhost:8080/"
        }
      },
      "source": [
        "num_preds = 400\n",
        "predict_ = lambda prefix: predict(prefix, num_preds, net, vocab, device)\n",
        "\n",
        "print(predict_('time traveller '))\n",
        "print(predict_('the '))\n",
        "print(predict_('fire burnt brightly '))\n"
      ],
      "execution_count": 23,
      "outputs": [
        {
          "output_type": "stream",
          "name": "stdout",
          "text": [
            "time traveller held in his hand was a glitteringmetallic framework scarcely larger than ausmall has ge sigh s omithe beminand way is aupa tourkund why hara aroul aglite so waid the timi travellerit s against reason said filbywand we hagr mensain yof tran fuen an abmagh tat in the time travellerit s against reason said filbywhad ands and hive smonle trieg tor said the psychologist thoughit s ald huvu drome sime t\n",
            "the gimile piagi at reas i said tie timithe gimmlanstion instans then thing tie fimintion along thelatter from the beginning to the end of our livesthat said a very young man making spasmedic if li ghe in it allyou ta gineth beveme fomentime ot tileprepwaline on at wilh abemave ad tingtante ther ther than the oney lxing of thed ints ald erht and have ivei goimint an whinht of moven anoud r at is just \n",
            "fire burnt brightly fnom that fslyon younk so mentthisk hithab ul an tohe brging if they thur ghes manthr limisteli havi boun an and in as ablotaree prep be bo kitha tore abkit fougth remathere abrey of gome figheer meyh able rastof shaws gewnofres thed ab ialtor shalt wande wes weld we said t revelical of ouscrove aranceothos kauthave buen askein time antwilnts the thed tyou mal invilly itthen abmect ys filish thick\n"
          ]
        }
      ]
    },
    {
      "cell_type": "markdown",
      "metadata": {
        "id": "URvl3gPSvy2P"
      },
      "source": [
        "### Build the model - Variant 2: Creating a PyTorch module\n",
        "\n",
        "We now show how to use create an RNN as a module, which is faster than our pure Python implementation.\n",
        "\n",
        "First we create a single hidden chain to represent the state."
      ]
    },
    {
      "cell_type": "code",
      "metadata": {
        "id": "6cbe7sYAsAjr",
        "ExecuteTime": {
          "end_time": "2023-11-28T13:26:03.652638900Z",
          "start_time": "2023-11-28T13:26:03.635456300Z"
        }
      },
      "source": [
        "num_hiddens = 256\n",
        "rnn_layer = nn.RNN(len(vocab), num_hiddens)\n",
        "\n",
        "batch_size, num_steps = 32, 35\n",
        "num_layers = 1\n",
        "state = torch.zeros((num_layers, batch_size, num_hiddens))\n",
        "state.shape\n"
      ],
      "execution_count": null,
      "outputs": []
    },
    {
      "cell_type": "markdown",
      "metadata": {
        "id": "F1hVhsSgwLLU"
      },
      "source": [
        "Now we update the state with a random one-hot tensor of inputs."
      ]
    },
    {
      "cell_type": "code",
      "metadata": {
        "id": "7pAV6m9rwN1d",
        "ExecuteTime": {
          "end_time": "2023-11-28T13:26:03.713572400Z",
          "start_time": "2023-11-28T13:26:03.650644700Z"
        }
      },
      "source": [
        "X = torch.rand(size=(num_steps, batch_size, len(vocab)))\n",
        "Y, state_new = rnn_layer(X, state)\n",
        "Y.shape, state_new.shape"
      ],
      "execution_count": null,
      "outputs": []
    },
    {
      "cell_type": "markdown",
      "metadata": {
        "id": "6J9R2aHzwhK_"
      },
      "source": [
        "Now we make an RNN module."
      ]
    },
    {
      "cell_type": "code",
      "metadata": {
        "id": "89IqhaoSwiRT",
        "ExecuteTime": {
          "end_time": "2023-11-28T13:26:03.714569400Z",
          "start_time": "2023-11-28T13:26:03.686161600Z"
        }
      },
      "source": [
        "class RNNModel(nn.Module):\n",
        "    \"\"\"The RNN model.\"\"\"\n",
        "    def __init__(self, rnn_layer, vocab_size, **kwargs):\n",
        "        super(RNNModel, self).__init__(**kwargs)\n",
        "        self.rnn = rnn_layer\n",
        "        self.vocab_size = vocab_size\n",
        "        self.num_hiddens = self.rnn.hidden_size\n",
        "        # If the RNN is bidirectional (to be introduced later),\n",
        "        # `num_directions` should be 2, else it should be 1.\n",
        "        if not self.rnn.bidirectional:\n",
        "            self.num_directions = 1\n",
        "            self.linear = nn.Linear(self.num_hiddens, self.vocab_size)\n",
        "        else:\n",
        "            self.num_directions = 2\n",
        "            self.linear = nn.Linear(self.num_hiddens * 2, self.vocab_size)\n",
        "\n",
        "    def forward(self, inputs, state):\n",
        "        X = F.one_hot(inputs.T.long(), self.vocab_size)\n",
        "        X = X.to(torch.float32)\n",
        "        Y, state = self.rnn(X, state)\n",
        "        # The fully connected layer will first change the shape of `Y` to\n",
        "        # (`num_steps` * `batch_size`, `num_hiddens`). Its output shape is\n",
        "        # (`num_steps` * `batch_size`, `vocab_size`).\n",
        "        output = self.linear(Y.reshape((-1, Y.shape[-1])))\n",
        "        return output, state\n",
        "\n",
        "    def begin_state(self, device, batch_size=1):\n",
        "        if not isinstance(self.rnn, nn.LSTM):\n",
        "            # `nn.GRU` takes a tensor as hidden state\n",
        "            return torch.zeros((self.num_directions * self.rnn.num_layers,\n",
        "                                batch_size, self.num_hiddens), device=device)\n",
        "        else:\n",
        "            # `nn.LSTM` takes a tuple of hidden states\n",
        "            return (torch.zeros((self.num_directions * self.rnn.num_layers,\n",
        "                                 batch_size, self.num_hiddens),\n",
        "                                device=device),\n",
        "                    torch.zeros((self.num_directions * self.rnn.num_layers,\n",
        "                                 batch_size, self.num_hiddens),\n",
        "                                device=device))"
      ],
      "execution_count": null,
      "outputs": []
    },
    {
      "cell_type": "markdown",
      "metadata": {
        "id": "HVO0IVrGxBD1"
      },
      "source": [
        "Test the untrained model."
      ]
    },
    {
      "cell_type": "code",
      "metadata": {
        "id": "J19s-kDjwi3F",
        "ExecuteTime": {
          "end_time": "2023-11-28T13:26:03.717592100Z",
          "start_time": "2023-11-28T13:26:03.699788100Z"
        }
      },
      "source": [
        "device = try_gpu()\n",
        "net = RNNModel(rnn_layer, vocab_size=len(vocab))\n",
        "net = net.to(device)"
      ],
      "execution_count": null,
      "outputs": []
    },
    {
      "cell_type": "markdown",
      "metadata": {
        "id": "V6RGAFRrxIMl"
      },
      "source": [
        "Train it. The results are similar to the 'from scratch' implementation, but much faster."
      ]
    },
    {
      "cell_type": "code",
      "metadata": {
        "id": "O_mu4sc2xEQH"
      },
      "source": [
        "num_epochs, lr = 500, 1\n",
        "train(net, train_iter, vocab, lr, num_epochs, device)\n",
        "predict('time traveller ', 50, net, vocab, device)"
      ],
      "execution_count": null,
      "outputs": []
    },
    {
      "cell_type": "markdown",
      "source": [
        "#### Analysis\n",
        "Inspect some more results again."
      ],
      "metadata": {
        "id": "pt5YRaJN_lIY"
      }
    },
    {
      "cell_type": "code",
      "source": [
        "num_preds = 400\n",
        "predict_ = lambda prefix: predict(prefix, num_preds, net, vocab, device)\n",
        "\n",
        "print(predict_('time traveller '))\n",
        "print(predict_('the '))\n",
        "print(predict_('fire burnt brightly '))\n"
      ],
      "metadata": {
        "id": "ktf_42uG_C9D",
        "ExecuteTime": {
          "end_time": "2023-11-28T13:26:47.501970800Z",
          "start_time": "2023-11-28T13:26:47.218899100Z"
        }
      },
      "execution_count": null,
      "outputs": []
    }
  ]
}